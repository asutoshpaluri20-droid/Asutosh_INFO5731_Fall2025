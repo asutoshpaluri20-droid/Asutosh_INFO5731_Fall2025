{
  "nbformat": 4,
  "nbformat_minor": 0,
  "metadata": {
    "colab": {
      "provenance": [],
      "authorship_tag": "ABX9TyMJAfnuTEZyGrKF7YLPaHBK",
      "include_colab_link": true
    },
    "kernelspec": {
      "name": "python3",
      "display_name": "Python 3"
    },
    "language_info": {
      "name": "python"
    }
  },
  "cells": [
    {
      "cell_type": "markdown",
      "metadata": {
        "id": "view-in-github",
        "colab_type": "text"
      },
      "source": [
        "<a href=\"https://colab.research.google.com/github/asutoshpaluri20-droid/Asutosh_INFO5731_Fall2025/blob/main/Paluri_Asutosh_Assignment_03ipynb.ipynb\" target=\"_parent\"><img src=\"https://colab.research.google.com/assets/colab-badge.svg\" alt=\"Open In Colab\"/></a>"
      ]
    },
    {
      "cell_type": "markdown",
      "source": [
        "\n",
        "# **INFO5731 Assignment 3**\n",
        "\n",
        "In this assignment, we will delve into various aspects of natural language processing (NLP) and text analysis. The tasks are designed to deepen your understanding of key NLP concepts and techniques, as well as to provide hands-on experience with practical applications.\n",
        "\n",
        "Through these tasks, you'll gain practical experience in NLP techniques such as N-gram analysis, TF-IDF, word embedding model creation, and sentiment analysis dataset creation.\n",
        "\n",
        "**Expectations**:\n",
        "*   Use the provided .*ipynb* document to write your code & respond to the questions. Avoid generating a new file.\n",
        "*   Write complete answers and run all the cells before submission.\n",
        "*   Make sure the submission is \"clean\"; *i.e.*, no unnecessary code cells.\n",
        "*   Once finished, allow shared rights from top right corner (*see Canvas for details*).\n",
        "\n",
        "\n",
        "**Total points**: 100\n",
        "\n",
        "**Deadline**: See Canvas\n",
        "\n",
        "**Late Submission will have a penalty of 10% reduction for each day after the deadline.**\n"
      ],
      "metadata": {
        "id": "hdbSixyzeSE9"
      }
    },
    {
      "cell_type": "markdown",
      "source": [
        "## Question 1 (30 points)\n",
        "\n",
        "**Understand N-gram**\n",
        "\n",
        "Write a python program to conduct N-gram analysis based on the dataset in your assignment two. You need to write codes from **scratch instead of using any pre-existing libraries** to do so:\n",
        "\n",
        "(1) Count the frequency of all the N-grams (N=3) and (N=2).\n",
        "\n",
        "(2) Calculate the probabilities for all the bigrams in the dataset by using the formula  count(w2 w1) / count(w2). For example, count(really like) / count(really) = 1 / 3 = 0.33.\n",
        "\n",
        "(3) Extract all the noun phrases and calculate the relative\n",
        "probabilities of each review in terms of other reviews (abstracts, or tweets) by using the formula  frequency (noun phrase) / max frequency (noun phrase) on the whole dataset.\n",
        "\n",
        "Print out the result in a table with column name the all the noun phrases and row name as all the 100 reviews (abstracts, or tweets)."
      ],
      "metadata": {
        "id": "0eL7eEs1eYL2"
      }
    },
    {
      "cell_type": "code",
      "source": [
        "import pandas as pd\n",
        "import re\n",
        "from collections import defaultdict\n",
        "\n",
        "# --- Load dataset ---\n",
        "df = pd.read_csv(\"imdb_reviews-2.csv\")\n",
        "reviews = df[\"text\"].dropna().astype(str).tolist()   # ✅ use the correct column\n",
        "\n",
        "print(f\"Loaded {len(reviews)} reviews.\")\n",
        "print(\"Example review:\", reviews[0][:150], \"...\\n\")\n",
        "\n",
        "# --- Tokenization ---\n",
        "def tokenize(text):\n",
        "    text = text.lower()\n",
        "    tokens = re.findall(r'\\b\\w+\\b', text)\n",
        "    return tokens\n",
        "\n",
        "def get_ngrams(tokens, n):\n",
        "    return [' '.join(tokens[i:i+n]) for i in range(len(tokens)-n+1)]"
      ],
      "metadata": {
        "colab": {
          "base_uri": "https://localhost:8080/"
        },
        "id": "6KRqVUrMet7Q",
        "outputId": "1bfd4284-e513-4b59-d6e2-fd79f477d8ce"
      },
      "execution_count": 9,
      "outputs": [
        {
          "output_type": "stream",
          "name": "stdout",
          "text": [
            "Loaded 1000 reviews.\n",
            "Example review: I rented I AM CURIOUS-YELLOW from my video store because of all the controversy that surrounded it when it was first released in 1967. I also heard th ...\n",
            "\n"
          ]
        }
      ]
    },
    {
      "cell_type": "code",
      "source": [
        "# Q1) Count the frequency of all the N-grams (N=3) and (N=2).\n",
        "bigram_freq = defaultdict(int)\n",
        "trigram_freq = defaultdict(int)\n",
        "unigram_freq = defaultdict(int)\n",
        "\n",
        "for review in reviews:\n",
        "    tokens = tokenize(review)\n",
        "    for word in tokens:\n",
        "        unigram_freq[word] += 1\n",
        "    for bigram in get_ngrams(tokens, 2):\n",
        "        bigram_freq[bigram] += 1\n",
        "    for trigram in get_ngrams(tokens, 3):\n",
        "        trigram_freq[trigram] += 1\n",
        "\n",
        "print(\"\\n=== Bigram Frequencies (Top 10) ===\")\n",
        "for bigram, count in list(sorted(bigram_freq.items(), key=lambda x: x[1], reverse=True))[:10]:\n",
        "    print(f\"{bigram}: {count}\")\n",
        "\n",
        "print(\"\\n=== Trigram Frequencies (Top 10) ===\")\n",
        "for trigram, count in list(sorted(trigram_freq.items(), key=lambda x: x[1], reverse=True))[:10]:\n",
        "    print(f\"{trigram}: {count}\")"
      ],
      "metadata": {
        "colab": {
          "base_uri": "https://localhost:8080/"
        },
        "id": "LjVMSuQUhlRZ",
        "outputId": "c034075a-6f14-4b7a-8c29-51c521ccc243"
      },
      "execution_count": 10,
      "outputs": [
        {
          "output_type": "stream",
          "name": "stdout",
          "text": [
            "\n",
            "=== Bigram Frequencies (Top 10) ===\n",
            "br br: 2282\n",
            "of the: 1384\n",
            "in the: 1040\n",
            "it s: 707\n",
            "this movie: 687\n",
            "to be: 560\n",
            "the film: 532\n",
            "and the: 525\n",
            "the movie: 493\n",
            "this film: 476\n",
            "\n",
            "=== Trigram Frequencies (Top 10) ===\n",
            "br br the: 332\n",
            "br br i: 191\n",
            "one of the: 152\n",
            "i don t: 127\n",
            "this movie is: 119\n",
            "of the film: 105\n",
            "of the movie: 89\n",
            "it s a: 88\n",
            "to be a: 87\n",
            "a lot of: 79\n"
          ]
        }
      ]
    },
    {
      "cell_type": "code",
      "source": [
        "# Q2)  Calculate the probabilities for all the bigrams in the dataset by using the formula count(w2 w1) / count(w2). For example, count(really like) / count(really) = 1 / 3 = 0.33.\\\n",
        "\n",
        "bigram_probs = {}\n",
        "for bigram, count in bigram_freq.items():\n",
        "  word1, word2 = bigram.split()\n",
        "  bigram_probs[bigram] = count / unigram_freq[word1]\n",
        "\n",
        "print(\"Bigram Probabnilities\")\n",
        "for bigram, prob in list(sorted(bigram_probs.items(), key = lambda x: x[1], reverse=True))[:10]:\n",
        "  print(f\"P({bigram.split()[1]}|{bigram.split()[0]}) = {prob:.3f}\")\n",
        "\n"
      ],
      "metadata": {
        "colab": {
          "base_uri": "https://localhost:8080/"
        },
        "id": "lgxQ889vkeln",
        "outputId": "a3bd4879-124f-43b5-e6a8-431ada330b56"
      },
      "execution_count": 11,
      "outputs": [
        {
          "output_type": "stream",
          "name": "stdout",
          "text": [
            "Bigram Probabnilities\n",
            "P(that|controversy) = 1.000\n",
            "P(i|1967) = 1.000\n",
            "P(by|seized) = 1.000\n",
            "P(to|attentions) = 1.000\n",
            "P(thought|swede) = 1.000\n",
            "P(of|denizens) = 1.000\n",
            "P(mind|countrymen) = 1.000\n",
            "P(bergman|ingmar) = 1.000\n",
            "P(the|commend) = 1.000\n",
            "P(t|doesn) = 1.000\n"
          ]
        }
      ]
    },
    {
      "cell_type": "code",
      "source": [
        "# Q3) Extract all the noun phrases and calculate the relative probabilities of each review in terms of other reviews (abstracts, or tweets) by using the formula frequency (noun phrase) / max frequency (noun phrase) on the whole dataset.\n",
        "\n",
        "def extract_noun_phrases(text):\n",
        "    tokens = tokenize(text)\n",
        "    phrases = []\n",
        "    for i in range(len(tokens)-1):\n",
        "        # Simple heuristic for adjectives + noun\n",
        "        if tokens[i].endswith(('y', 'ive', 'ous')) or tokens[i] in ['good', 'great', 'amazing', 'nice', 'fantastic', 'bad']:\n",
        "            phrases.append(tokens[i] + \" \" + tokens[i+1])\n",
        "    return phrases\n",
        "\n",
        "noun_phrase_counts = []\n",
        "total_np_freq = defaultdict(int)\n",
        "\n",
        "for review in reviews:\n",
        "    phrases = extract_noun_phrases(review)\n",
        "    counts = defaultdict(int)\n",
        "    for p in phrases:\n",
        "        counts[p] += 1\n",
        "        total_np_freq[p] += 1\n",
        "    noun_phrase_counts.append(counts)\n",
        "\n",
        "max_np_freq = max(total_np_freq.values()) if total_np_freq else 1\n",
        "noun_phrases = list(total_np_freq.keys())\n",
        "\n",
        "print(\"\\n=== Relative Probabilities Table (Top 5 Noun Phrases) ===\")\n",
        "print(\"Review_ID\".ljust(10), end=\"\")\n",
        "for np in noun_phrases[:5]:\n",
        "    print(np.ljust(20), end=\"\")\n",
        "print()\n",
        "\n",
        "for i, counts in enumerate(noun_phrase_counts[:5]):  # show first 5 reviews\n",
        "    print(f\"R{i+1}\".ljust(10), end=\"\")\n",
        "    for np in noun_phrases[:5]:\n",
        "        rel_prob = counts[np] / max_np_freq if np in counts else 0\n",
        "        print(f\"{rel_prob:<20.2f}\", end=\"\")\n",
        "    print()"
      ],
      "metadata": {
        "colab": {
          "base_uri": "https://localhost:8080/"
        },
        "id": "V6yFmLk9l3kf",
        "outputId": "07bda855-ca46-481b-f436-b8ec047d4a48"
      },
      "execution_count": 12,
      "outputs": [
        {
          "output_type": "stream",
          "name": "stdout",
          "text": [
            "\n",
            "=== Relative Probabilities Table (Top 5 Noun Phrases) ===\n",
            "Review_ID curious yellow      my video            controversy that    by u                country therefore   \n",
            "R1        0.01                0.00                0.00                0.00                0.00                \n",
            "R2        0.00                0.00                0.00                0.00                0.00                \n",
            "R3        0.00                0.00                0.00                0.00                0.00                \n",
            "R4        0.00                0.00                0.00                0.00                0.00                \n",
            "R5        0.00                0.00                0.00                0.00                0.00                \n"
          ]
        }
      ]
    },
    {
      "cell_type": "markdown",
      "source": [
        "## Question 2 (25 points)\n",
        "\n",
        "**Undersand TF-IDF and Document representation**\n",
        "\n",
        "Starting from the documents (all the reviews, or abstracts, or tweets) collected for assignment two, write a python program:\n",
        "\n",
        "(1) To build the documents-terms weights (tf * idf) matrix.\n",
        "\n",
        "(2) To rank the documents with respect to query (design a query by yourself, for example, \"An Outstanding movie with a haunting performance and best character development\") by using cosine similarity.\n",
        "\n",
        "Note: You need to write codes from scratch instead of using any **pre-existing libraries** to do so."
      ],
      "metadata": {
        "id": "ACMPCVMgeZfx"
      }
    },
    {
      "cell_type": "code",
      "source": [
        "#Q1)\n",
        "\n",
        "import pandas as pd\n",
        "import numpy as np\n",
        "import math\n",
        "from nltk.tokenize import word_tokenize\n",
        "from nltk.corpus import stopwords\n",
        "import nltk\n",
        "\n",
        "# Download NLTK resources\n",
        "nltk.download('punkt')\n",
        "nltk.download('stopwords')\n",
        "\n",
        "# Step 1: Load and preprocess dataset\n",
        "\n",
        "data = pd.read_csv(\"imdb_reviews-2.csv\")\n",
        "\n",
        "# Clean and tokenize text\n",
        "stop_words = set(stopwords.words('english'))\n",
        "\n",
        "def preprocess(text):\n",
        "    text = str(text).lower()\n",
        "    tokens = [w for w in word_tokenize(text) if w.isalpha() and w not in stop_words]\n",
        "    return tokens\n",
        "\n",
        "data['tokens'] = data['text'].apply(preprocess)\n",
        "\n",
        "# Step 2: Build vocabulary\n",
        "\n",
        "vocab = sorted(list(set([word for tokens in data['tokens'] for word in tokens])))\n",
        "print(f\"Vocabulary Size: {len(vocab)}\")\n",
        "\n",
        "# Step 3: Compute Term Frequency (TF)\n",
        "\n",
        "def compute_tf(tokens):\n",
        "    tf = {}\n",
        "    total_terms = len(tokens)\n",
        "    for term in tokens:\n",
        "        tf[term] = tf.get(term, 0) + 1\n",
        "    for term in tf:\n",
        "        tf[term] = tf[term] / total_terms\n",
        "    return tf\n",
        "\n",
        "data['tf'] = data['tokens'].apply(compute_tf)\n",
        "\n",
        "# Step 4: Compute Inverse Document Frequency (IDF)\n",
        "\n",
        "def compute_idf(vocab, documents):\n",
        "    N = len(documents)\n",
        "    idf = {}\n",
        "    for term in vocab:\n",
        "        df = sum(1 for doc in documents if term in doc)\n",
        "        idf[term] = math.log((N / (1 + df)))  # add 1 to avoid division by zero\n",
        "    return idf\n",
        "\n",
        "idf = compute_idf(vocab, data['tokens'])\n",
        "\n",
        "# Step 5: Compute TF-IDF for each document\n",
        "\n",
        "def compute_tfidf(tf_dict, idf_dict):\n",
        "    tfidf = {}\n",
        "    for term, tf_val in tf_dict.items():\n",
        "        tfidf[term] = tf_val * idf_dict.get(term, 0)\n",
        "    return tfidf\n",
        "\n",
        "data['tfidf'] = data['tf'].apply(lambda x: compute_tfidf(x, idf))\n",
        "\n",
        "# Step 6: Convert to Document-Term Matrix\n",
        "\n",
        "tfidf_matrix = pd.DataFrame(0.0, index=range(len(data)), columns=vocab)\n",
        "\n",
        "for i, tfidf_dict in enumerate(data['tfidf']):\n",
        "    for term, val in tfidf_dict.items():\n",
        "        tfidf_matrix.at[i, term] = val\n",
        "\n",
        "print(\"✅ TF-IDF matrix successfully built!\")\n",
        "print(tfidf_matrix.head())"
      ],
      "metadata": {
        "id": "E11DdqQfeoQk",
        "colab": {
          "base_uri": "https://localhost:8080/"
        },
        "outputId": "e0b6484f-b635-4c04-a8c9-3fcf19b86dd1"
      },
      "execution_count": 13,
      "outputs": [
        {
          "output_type": "stream",
          "name": "stdout",
          "text": [
            "Loaded 1000 documents.\n",
            "Example document: I rented I AM CURIOUS-YELLOW from my video store because of all the controversy that surrounded it when it was first rel ...\n",
            "\n",
            "Vocabulary size: 15890 words\n",
            "\n",
            "=== Top 5 Relevant Documents ===\n",
            "1. Doc 50 - Cosine Similarity: 0.1065\n",
            "I saw this film opening weekend in Australia, anticipating with an excellent cast of Ledger, Edgerton, Bloom, Watts and Rush that the definitive story of Ned Kelly would unfold before me. Unfortunatel \n",
            "\n",
            "2. Doc 983 - Cosine Similarity: 0.1059\n",
            "I don't understand people. Why is it that this movie is getting an 8.3!!!!!!???? I had high hopes for this movie, but once i was about a half hour into it I just wanted to leave the theater. In the va \n",
            "\n",
            "3. Doc 492 - Cosine Similarity: 0.1051\n",
            "Another violent, angry fantasy from Paul Verhoeven. Verhoeven is a puzzle: it's difficult to tell whether he takes his sordid impulses seriously, with sardonic intent or operates in complete oblivion. \n",
            "\n",
            "4. Doc 516 - Cosine Similarity: 0.0979\n",
            "Luise Rainer received an Oscar for her performance in The Good Earth. Unfortunately, her role required no. She did not say much and looked pale throughout the film. Luise's character was a slave then  \n",
            "\n",
            "5. Doc 595 - Cosine Similarity: 0.0885\n",
            "In my book \"Basic Instinct\" was a perfect film. It had outstanding acting on the parts of Stone, Douglas and all the supporting actors to the tiniest role. It had marvelous photography, music and the  \n",
            "\n"
          ]
        }
      ]
    },
    {
      "cell_type": "code",
      "source": [
        "# Q2)\n",
        "\n",
        "import pandas as pd\n",
        "from sklearn.feature_extraction.text import TfidfVectorizer\n",
        "from sklearn.metrics.pairwise import cosine_similarity\n",
        "\n",
        "df = pd.read_csv(\"imdb_reviews-2.csv\")\n",
        "\n",
        "# Display first few rows\n",
        "print(\"Dataset Loaded Successfully!\")\n",
        "print(df.head())\n",
        "\n",
        "# Assuming the review text column is named 'review' or similar\n",
        "if 'review' in df.columns:\n",
        "    text_col = 'review'\n",
        "elif 'text' in df.columns:\n",
        "    text_col = 'text'\n",
        "else:\n",
        "    # If unsure, print columns\n",
        "    print(\"Columns found:\", df.columns)\n",
        "    raise ValueError(\"Couldn't find the text column. Please update text_col variable.\")\n",
        "\n",
        "\n",
        "vectorizer = TfidfVectorizer(stop_words='english', lowercase=True)\n",
        "tfidf_matrix = vectorizer.fit_transform(df[text_col])\n",
        "\n",
        "\n",
        "query = \"An outstanding movie with a haunting performance and best character development\"\n",
        "\n",
        "query_vector = vectorizer.transform([query])\n",
        "\n",
        "\n",
        "cosine_similarities = cosine_similarity(query_vector, tfidf_matrix).flatten()\n",
        "\n",
        "\n",
        "df['similarity_score'] = cosine_similarities\n",
        "ranked_df = df.sort_values(by='similarity_score', ascending=False)\n",
        "\n",
        "print(\"\\nTop 10 Reviews Most Similar to the Query:\\n\")\n",
        "for i, row in ranked_df.head(10).iterrows():\n",
        "    print(f\"Rank: {i+1} | Similarity: {row['similarity_score']:.4f}\")\n",
        "    print(f\"Review: {row[text_col]}\")\n",
        "    print(\"-\" * 80)\n"
      ],
      "metadata": {
        "colab": {
          "base_uri": "https://localhost:8080/"
        },
        "id": "NN6Ky4Y686ar",
        "outputId": "51842547-508b-439f-fbcb-b8b9b94a1e61"
      },
      "execution_count": 20,
      "outputs": [
        {
          "output_type": "stream",
          "name": "stdout",
          "text": [
            "Dataset Loaded Successfully!\n",
            "                                                text\n",
            "0  I rented I AM CURIOUS-YELLOW from my video sto...\n",
            "1  \"I Am Curious: Yellow\" is a risible and preten...\n",
            "2  If only to avoid making this type of film in t...\n",
            "3  This film was probably inspired by Godard's Ma...\n",
            "4  Oh, brother...after hearing about this ridicul...\n",
            "\n",
            "Top 10 Reviews Most Similar to the Query:\n",
            "\n",
            "Rank: 984 | Similarity: 0.1636\n",
            "Review: I don't understand people. Why is it that this movie is getting an 8.3!!!!!!???? I had high hopes for this movie, but once i was about a half hour into it I just wanted to leave the theater. In the vast majority of the reviews on this site people are saying that this is one of the best action movies they've seen (or of the summer, year, etc.) They say it's an excellent conclusion. WTF!!!!!!!!!?????? What has been concluded (besides the fact that Bourne can ride motorcycles, shoot, and fight better than anyone else he comes across)? What do you learn about Bourne's character in this movie?????????Absolutely f****** nothing!!!!!!! Okay, there's a lot of action, but what's so great about the action in this movie?? I don't like the cinematography and film editing. The shaky camera effect and fast changing shots were used TOO much and they get old fast (I didn't mind them in Supremacy because it was still easy to follow and was not used in excess) and made me quite dizzy. I was quickly wishing I had saved my $$$ for something else.<br /><br />This movie has no plot. All this movie is is a 115 minute chase seen. Bourne, who you learn absolutely nothing about in the entire 115 minutes of the movie, is a perfectionist at everything he attempts. There is absolutely no character development in this movie, you know nothing about anyone, and there is a wide array of new characters that are introduced in this installment. Some people said that this movie has incredible writing and suspense. ???????????!!!!!!!! What writing???? What suspense??? There's no suspense. Bourne is so perfect at doing everything he does, I don't think he has anything to worry about. If this is the best movie of the year 2007 I may just quit watching movies entirely!!!! <br /><br />Many people have also said that Matt Damon's performance in this movie is one of the best (if not the best) of his career. What performance?? How many lines did he have in this movie??? I have some respect for Damon because he has been in movies that I liked and has played different kinds of characters, but a good actor is someone that you can barely recognize from one movie to the next, someone who chooses different types of roles. Not someone who plays the same roles over and over again (which Damon doesn't do, but an example of someone who does is Vin Diesel).<br /><br />Anyways, this movie was a BIG disappointment to me. I do not recommend this movie but I do recommend the first two (Bourne Identity and Bourne Supremacy) and I most definitely recommend reading the three books (which are much different then the movies).\n",
            "--------------------------------------------------------------------------------\n",
            "Rank: 517 | Similarity: 0.1264\n",
            "Review: Luise Rainer received an Oscar for her performance in The Good Earth. Unfortunately, her role required no. She did not say much and looked pale throughout the film. Luise's character was a slave then given away to marriage to Paul Muni's character (he did a fantastic job for his performance). Set in ancient Asia, both actors were not Asian, but were very convincing in their roles. I hope that Paul Muni received an Oscar for his performance, because that is what Luise must have gotten her Oscar for. She must have been a breakthrough actress, one of the first to method act. This seems like something that Hollywood does often. Al Pacino has played an Italian and Cuban. I felt Luise's performance to be lackluster throughout, and when she died, she did not change in expression from any previous scenes. She stayed the same throughout the film; she only changed her expression or emotion maybe twice. If her brilliant acting was so subtle, I suppose I did not see it.\n",
            "--------------------------------------------------------------------------------\n",
            "Rank: 516 | Similarity: 0.1179\n",
            "Review: A couple of farmers struggle in life in a small village in China. Wang Lung (Paul Muni) buys O-Lan, his future wife, who becomes his slave (Luis Rainer). American stars appear in the leading roles, talking with fake accents and emphasizing old stereotypes and patriarchal ideology. A good wife, many children and land are the best things for men to have. They are seen as property and investment. Because it is a big budget movie, in which many extras cooperate, big sets are built and special effects take place, the movie makers could not take the risk of hiring less popular actors. Luise Rainer won an Academy Award for this performance, which is definitely the worst in the movie. Her immutable face builds a barrier between her and the audience. O-Lan is supposed to be the heart of the family and the best character to sympathize with. On the other hand Paul Muni gives a better performance, showing his talent ones again. Another problem with the movie is the ending. It seems like Franklin did not know when to end the picture. This film could be dangerous if it is taken as a truly example of Chinese culture and traditions.\n",
            "--------------------------------------------------------------------------------\n",
            "Rank: 811 | Similarity: 0.1061\n",
            "Review: Ok, honestly I dont see why everybody thinks this is so great. Its really not. There were two good things that came out of this movie 1. Jack's performance, he was very good I can tip my hat for him. 2. Danny's performance, he was good. No other then that it got pretty stupid. And, what was Stanley Kubrick thinking drafting Shelly as the Wendy? She was so bad. She looked the same every time she got scared. The problem with this movie was the ending. I would have had more respect for it if Kubrick would have ended it differently. And, the over all movie was just stupid. The problem with the movie is that the book was so much better. So dont see the movie read the book and you will be much better off. 3/10.\n",
            "--------------------------------------------------------------------------------\n",
            "Rank: 493 | Similarity: 0.1034\n",
            "Review: Another violent, angry fantasy from Paul Verhoeven. Verhoeven is a puzzle: it's difficult to tell whether he takes his sordid impulses seriously, with sardonic intent or operates in complete oblivion. He also seems completely ignorant of the fact that all the brilliant visuals in the world (and this has some outstanding ones) cannot hide a negligence to story, dialogue and performance. Kevin Bacon plays a corrupt scientist who has discovered invisibility and uses it to drive himself into moral bankruptcy. Bacon is normally a likable actor who occasionally shows his dark side (`The River Wild') in an attempt to offset his boyish looks; given the material, however, Bacon isn't nearly hateful enough to compel. The other principals are Elisabeth Shue and Josh Brolin, neither of whom are gifted enough to make a solid impression and who, when forced to deliver inane dialogue, embarrass themselves. The climax is a study in preponderance and disbelief has to be truly suspended.\n",
            "--------------------------------------------------------------------------------\n",
            "Rank: 856 | Similarity: 0.0985\n",
            "Review: Extremely disappointing film based on the James Michener novel.<br /><br />What was even worse was Marlon Brando's performance. His southern drawl was ridiculous. I found myself laughing when he spoke as he sounded like an elderly southern lady coming home to roost. Brando, so great in previous films, was reduced here to a laughing stock. Tyrone Power, in \"Witness for the Prosecution,\" should have been nominated for best actor instead of Brando here.<br /><br />The film, dealing with racism, dealt with the U.S. government's attempt to avoid marriages between U.S. soldiers and Japanese women.<br /><br />Brando was stone-faced throughout the movie. His moving from anti-these relationships to a pro one occurs when he finds love with an Asian woman. His emotions and talk made it difficult to see how he could espouse such new views.<br /><br />Only the lord knows why Red Buttons and Miyoshi Umeki received supporting Oscars for their performances. Nothing about either performance was equally impressive. Umeki's appearance on the screen was short and without much of anything being depicted on her part. A better performance in this film was done by Miiko Taka, who did nicely as Brando's love interest. She showed great emotion as the anti-American who found love with the Brando character. Her face was etched with the unhappiness she had for losing her father and brother in World War 11. She realized that her dancing was not her way out of this existence that she was living.<br /><br />Martha Scott went from the Hebrew mother Yochobel in \"The Ten Commandments\" to the bigoted mother of Brando's love interest at first. Her performance together with the one of Ricardo Montalban was wasted. Patricia Owens, as Brando's first love, showed depth and conviction in her performance.\n",
            "--------------------------------------------------------------------------------\n",
            "Rank: 51 | Similarity: 0.0983\n",
            "Review: I saw this film opening weekend in Australia, anticipating with an excellent cast of Ledger, Edgerton, Bloom, Watts and Rush that the definitive story of Ned Kelly would unfold before me. Unfortunately, despite an outstanding performance by Heath Ledger in the lead role, the plot was paper thin....which doesn't inspire me to read \"Our Sunshine\". There were some other plus points, the support acting from Edgerton in particular, assured direction from Jordan (confirming his talent on show in Buffalo Soldiers as well), and production design that gave a real feel of harshness to the Australian bush, much as the Irish immigrants of the early 19th century must have seen it. But I can't help feeling that another opportunity has been missed to tell the real story of an Australian folk hero (or was he?)....in what I suspect is a concession to Hollywood and selling the picture in the US. Oh well, at least Jordan and the producers didn't agree to lose the beards just to please Universal...<br /><br />Guess I will just have to content myself with Peter Carey's excellent \"Secret History of the Kelly Gang\". 4/10\n",
            "--------------------------------------------------------------------------------\n",
            "Rank: 878 | Similarity: 0.0921\n",
            "Review: I saw this film on its release, and have watched it 3 or 4 more times, including last week. I regret I have to be a voice of dissension with regard to Mr. Branagh's performance.<br /><br />This is really a glorious, sumptuous film, to say nothing of ambitious at over 4 hours long - beautifully shot and designed. Derek Jacobi, Julie Christie, Kate Winslet, Richard Briers, and many others do fine jobs. Then there's Kenneth Branagh. If ever there was a vanity project for an actor, this is it, and Mr. Branagh spares nothing in putting the \"ham\" in Hamlet. From the stunt casting (which gives us the worst performance ever by the woefully miscast Jack Lemmon), to the bits of distracting business thrown in to infuse a sense of \"naturalness,\" to his own performance which runs the gamut from throwing away the single most famous soliloquy in all of literature to screaming every line of others. His performance confirms that, while he may come across better on stage where bigger is necessary, he has never been a great film actor. The scenery budget could be charged to catering, Mr. Branagh eats so much of it. His performance is a perfect example of why people don't go to see Shakespeare - \"full of sound and fury, signifying nothing.\" And if there is fault to his direction, it is that he keeps the camera firmly glued on his overblown performance.<br /><br />No matter what theories people may posit on the Bard, he was, after all is said and done, a playwright. The brilliance of his plays rest in the fact that his themes are universal and timeless. Although there is no \"right\" way to play his plays, there is most certainly great acting, good acting and bad acting. Shakespeare himself gives instructions to the players in the text of \"Hamlet\" itself. It amazes me how Mr. Branagh \"mouthed\" it, but did not hear it. It was an example of spending too much time working out how he's going to say something, and too little figuring out WHAT he's saying.<br /><br />While Mr. Branagh has certainly done a wonderful job in mounting some entertaining productions, he would be wise to stay behind the camera and allow those who know the art of acting to practice it. His direction has always been better than his acting. I still give him immense credit for resurrecting interest in filming Shakespeare. He set a great template for other productions. And, it would be interesting to see him onstage, from about 20 rows back. But, I do hope he chooses to direct more and act less.<br /><br />Is it worth seeing? Certainly. There are many little joys to be found in the film. But, it's a long, long movie and, by the end, one may feel less that they enjoyed than survived it.\n",
            "--------------------------------------------------------------------------------\n",
            "Rank: 897 | Similarity: 0.0913\n",
            "Review: LL Cool J performed much better in this movie that I expected! He did a fabulous job acting as a \"renegade\" cop within a \"renegade\" department. From the very beginning, he does a great job of building viewer empathy for his character and the predicament he's in. He acts as a sort of \"gentle giant\" -- a person whose rough exterior can scare anybody, yet whose heart is clearly in the right place from the very start -- and he does an amazing job. He was quite clearly the best character in the movie.<br /><br />This was certainly a performance that will not win Morgan Freeman any awards. After starring in powerhouse films like the Shawshank Redemption this film was certainly a step down. His role in Edison simply did not allow him to show his true talents as an actor -- and in terms of the conglomeration of characters placed him sadly on a back burner. There are so many ways his character (Moses Ashford) could have taken a more pivotal role. That he didn't was disappointing and a true let-down. I was hoping to see more from him in this film.<br /><br />Timberlake ought to have stayed in the music industry. His portrayal of a young journalist was poorly acted and unpersuasive. This movie is a typical action movie that (at least initially) bears some resemblance to corrupt police affairs LA has experienced in the past. Being an action movie, it has its share of shoot-em-up scenes, blood, and guts. These scenes are typically unrealistic and painfully predictable. Watching the beginning of the movie there is very little suspense as to what will happen at the end -- think of what you would typically expect in a good-cops/bad-cops conflict -- and it bears little resemblance to a REAL police shoot-out.<br /><br />What irked me most was the way Timberlake's character behaved during shoot-out scenes. He starts out having guns and not using them. Then when he finally gets around to using one he fires it as if he's been firing a gun his whole life. Then he runs out of bullets and doesn't have a gun -- and 30 seconds later, without moving or anything -- suddenly has 2 more fully loaded guns AND extra ammo?! Little plot errors like this really ruined the movie for me.<br /><br />If what you are looking for is a blatantly fictional plot in a fantasy world where everything turns out okay, then you'll probably love this movie. Personally, it doesn't matter to me what KIND of movie it is as long as it is realistic. Make me believe that the story is true. This story was so obviously fictional in so many aspects that I came away feeling unsatisfied.\n",
            "--------------------------------------------------------------------------------\n",
            "Rank: 230 | Similarity: 0.0896\n",
            "Review: Watched this on DVD in original language with English subs. Either the subtitling was very poor or the actual dialog doesn't make much of story and give any character development. There are quite a few HK stars in this but the movie doesn't need their presence to make it better or worse. It's just bad. The bright and colorful scenes done in CG are attractive for the sheer colors and brilliance but it can get overwhelming before long. If anything this makes me think of a child's movie with its nonstop barrage of cg, fight scenes, and crap plot. I'm certain I grasped what took place in the film but the whole delivery of the story was rather lousy.\n",
            "--------------------------------------------------------------------------------\n"
          ]
        }
      ]
    },
    {
      "cell_type": "markdown",
      "source": [
        "## Question 3 (25 points)\n",
        "\n",
        "**Create your own word embedding model**\n",
        "\n",
        "Use the data you collected for assignment 2 to build a word embedding model:\n",
        "\n",
        "(1) Train a 300-dimension word embedding (it can be word2vec, glove, ulmfit or Fine tune bert model).\n",
        "\n",
        "(2) Visualize the embeddings using PCA or t-SNE in 2D. Create a scatter plot of at least 20 words and show how similar words cluster together.\n",
        "\n",
        "(3) Calculate the cosine similarity between a few pairs of words to see if the model captures semantic similarity accurately.\n",
        "\n",
        "Reference: https://machinelearningmastery.com/develop-word-embeddings-python-gensim/\n",
        "\n",
        "Reference: https://jaketae.github.io/study/word2vec/"
      ],
      "metadata": {
        "id": "kCYovd81ecP8"
      }
    },
    {
      "cell_type": "code",
      "source": [
        "# Q1)\n",
        "\n",
        "import pandas as pd\n",
        "from gensim.models import Word2Vec\n",
        "import nltk\n",
        "from nltk.tokenize import word_tokenize\n",
        "from sklearn.decomposition import PCA\n",
        "import matplotlib.pyplot as plt\n",
        "\n",
        "# Load dataset\n",
        "data = pd.read_csv(\"imdb_reviews-2.csv\")\n",
        "\n",
        "# Tokenize the text\n",
        "nltk.download('punkt')\n",
        "nltk.download('punkt_tab') # Download the missing resource\n",
        "sentences = [word_tokenize(str(text).lower()) for text in data['text']]\n",
        "\n",
        "# Train Word2Vec model\n",
        "model = Word2Vec(sentences, vector_size=300, window=5, min_count=3, workers=4, sg=1)\n",
        "model.save(\"word2vec_300.model\")\n",
        "\n",
        "print(\" Word2Vec model trained successfully with 300 dimensions.\")\n",
        "\n",
        "# Check similar words\n",
        "print(model.wv.most_similar(\"movie\", topn=10))"
      ],
      "metadata": {
        "colab": {
          "base_uri": "https://localhost:8080/"
        },
        "id": "LazUj3gF5VQ0",
        "outputId": "a1f8cbf6-e73f-4ecf-854f-22b69880765e"
      },
      "execution_count": 14,
      "outputs": [
        {
          "output_type": "stream",
          "name": "stderr",
          "text": [
            "[nltk_data] Downloading package punkt to /root/nltk_data...\n",
            "[nltk_data]   Package punkt is already up-to-date!\n",
            "[nltk_data] Downloading package punkt_tab to /root/nltk_data...\n",
            "[nltk_data]   Package punkt_tab is already up-to-date!\n"
          ]
        },
        {
          "output_type": "stream",
          "name": "stdout",
          "text": [
            " Word2Vec model trained successfully with 300 dimensions.\n",
            "[('film', 0.923336386680603), ('dvd', 0.8291728496551514), ('crap', 0.8226432800292969), ('flick', 0.8208380341529846), ('sequel', 0.8187171816825867), ('low', 0.8075346350669861), ('garbage', 0.8045918345451355), ('piece', 0.8012686371803284), ('everything', 0.7992282509803772), ('genre', 0.7974357604980469)]\n"
          ]
        }
      ]
    },
    {
      "cell_type": "code",
      "source": [
        "# Q2)\n",
        "\n",
        "# Choose 20 words to visualize\n",
        "words = [\"movie\", \"film\", \"story\", \"character\", \"actor\", \"performance\",\n",
        "         \"bad\", \"good\", \"great\", \"terrible\", \"amazing\", \"love\", \"hate\",\n",
        "         \"boring\", \"interesting\", \"director\", \"plot\", \"music\", \"scene\", \"ending\"]\n",
        "\n",
        "# Get embeddings\n",
        "vectors = [model.wv[w] for w in words if w in model.wv]\n",
        "\n",
        "# Reduce dimensions\n",
        "pca = PCA(n_components=2)\n",
        "result = pca.fit_transform(vectors)\n",
        "\n",
        "# Plot\n",
        "plt.figure(figsize=(10,8))\n",
        "plt.scatter(result[:,0], result[:,1])\n",
        "for i, word in enumerate(words):\n",
        "    if word in model.wv:\n",
        "        plt.annotate(word, xy=(result[i,0], result[i,1]))\n",
        "plt.title(\"Word2Vec 300-D Embedding Visualization (PCA)\")\n",
        "plt.show()\n"
      ],
      "metadata": {
        "colab": {
          "base_uri": "https://localhost:8080/",
          "height": 699
        },
        "id": "5wbLdZTH5zg0",
        "outputId": "efd71216-f833-4380-f94d-e3c661d59f07"
      },
      "execution_count": 15,
      "outputs": [
        {
          "output_type": "display_data",
          "data": {
            "text/plain": [
              "<Figure size 1000x800 with 1 Axes>"
            ],
            "image/png": "[encoded data removed]"
          },
          "metadata": {}
        }
      ]
    },
    {
      "cell_type": "code",
      "source": [
        "#Q3)\n",
        "\n",
        "from numpy import dot\n",
        "from numpy.linalg import norm\n",
        "\n",
        "def cosine_similarity(vec1, vec2):\n",
        "    return dot(vec1, vec2) / (norm(vec1) * norm(vec2))\n",
        "\n",
        "pairs = [(\"good\", \"great\"), (\"good\", \"bad\"), (\"movie\", \"film\"), (\"boring\", \"interesting\")]\n",
        "\n",
        "for w1, w2 in pairs:\n",
        "    if w1 in model.wv and w2 in model.wv:\n",
        "        sim = cosine_similarity(model.wv[w1], model.wv[w2])\n",
        "        print(f\"Cosine similarity between '{w1}' and '{w2}': {sim:.3f}\")\n"
      ],
      "metadata": {
        "colab": {
          "base_uri": "https://localhost:8080/"
        },
        "id": "U5f1Wn-Z54kp",
        "outputId": "62cf31f8-5694-4eac-ac3d-30ddfbd99e5e"
      },
      "execution_count": 16,
      "outputs": [
        {
          "output_type": "stream",
          "name": "stdout",
          "text": [
            "Cosine similarity between 'good' and 'great': 0.841\n",
            "Cosine similarity between 'good' and 'bad': 0.789\n",
            "Cosine similarity between 'movie' and 'film': 0.923\n",
            "Cosine similarity between 'boring' and 'interesting': 0.767\n"
          ]
        }
      ]
    },
    {
      "cell_type": "markdown",
      "source": [
        "## Question 4 (20 Points)\n",
        "\n",
        "**Create your own training and evaluation dataset for an NLP task.**\n",
        "\n",
        " **You don't need to write program for this question!**\n",
        "\n",
        " For example, if you collected a movie review or a product review data, then you can do the following steps:\n",
        "\n",
        "*   Read each review (abstract or tweet) you collected in detail, and annotate each review with a sentiment (positive, negative, or neutral).\n",
        "\n",
        "*   Save the annotated dataset into a csv file with three columns (first column: document_id, clean_text, sentiment), upload the csv file to GitHub and submit the file link blew.\n",
        "\n",
        "*   This datset will be used for assignment four: sentiment analysis and text classification.\n"
      ],
      "metadata": {
        "id": "DtFUHogAegUQ"
      }
    },
    {
      "cell_type": "markdown",
      "source": [
        "GitHub FIle Link\n",
        "https://github.com/asutoshpaluri20-droid/Asutosh_INFO5731_Fall2025.git"
      ],
      "metadata": {
        "id": "8cDrd0El7Yk7"
      }
    },
    {
      "cell_type": "markdown",
      "source": [
        "\n",
        "\n",
        "1.   Which NLP Task you would like perform on your selected dataset\n",
        "(NER, Summarization, Sentiment Analysis, Text classficication)\n",
        "2.  Explain your labeling Schema you have used and mention those labels\n",
        "\n",
        "3.  You can take AI assistance for labeling the data only.\n",
        "\n"
      ],
      "metadata": {
        "id": "yXsJZBPUeidx"
      }
    },
    {
      "cell_type": "markdown",
      "source": [
        "# Mandatory Question\n",
        "\n",
        "Provide your thoughts on the assignment by filling this survey link. What did you find challenging, and what aspects did you enjoy? Your opinion on the provided time to complete the assignment."
      ],
      "metadata": {
        "id": "8fcHZF-Fek6D"
      }
    },
    {
      "cell_type": "code",
      "source": [
        "\"\"\"\n",
        "I think the material was very clear, firstly starting with simple examples and then delving into more complex examples. By doing\n",
        "these exercises I feel more confident in my skills of Python Programming and can apply these concepts. other than that i feel like of we do\n",
        "live python programming in class as we conver topic and applying these live would help student get the concepts more easily.\n",
        "\"\"\""
      ],
      "metadata": {
        "id": "l33CSgpnesHu",
        "colab": {
          "base_uri": "https://localhost:8080/",
          "height": 69
        },
        "outputId": "9a44c24b-45ce-464c-f71d-086b2c0ec3ea"
      },
      "execution_count": 21,
      "outputs": [
        {
          "output_type": "execute_result",
          "data": {
            "text/plain": [
              "'\\nI think the material was very clear, firstly starting with simple examples and then delving into more complex examples. By doing\\nthese exercises I feel more confident in my skills of Python Programming and can apply these concepts. other than that i feel like of we do\\nlive python programming in class as we conver topic and applying these live would help student get the concepts more easily. \\n'"
            ],
            "application/vnd.google.colaboratory.intrinsic+json": {
              "type": "string"
            }
          },
          "metadata": {},
          "execution_count": 21
        }
      ]
    }
  ]
}