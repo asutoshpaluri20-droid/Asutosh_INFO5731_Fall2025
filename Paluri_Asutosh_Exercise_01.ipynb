{
  "nbformat": 4,
  "nbformat_minor": 0,
  "metadata": {
    "colab": {
      "provenance": [],
      "authorship_tag": "ABX9TyPTUGdVUlfBLpH+cbwRe6UW",
      "include_colab_link": true
    },
    "kernelspec": {
      "name": "python3",
      "display_name": "Python 3"
    },
    "language_info": {
      "name": "python"
    }
  },
  "cells": [
    {
      "cell_type": "markdown",
      "metadata": {
        "id": "view-in-github",
        "colab_type": "text"
      },
      "source": [
        "<a href=\"https://colab.research.google.com/github/asutoshpaluri20-droid/Asutosh_INFO5731_Fall2025/blob/main/Paluri_Asutosh_Exercise_01.ipynb\" target=\"_parent\"><img src=\"https://colab.research.google.com/assets/colab-badge.svg\" alt=\"Open In Colab\"/></a>"
      ]
    },
    {
      "cell_type": "markdown",
      "source": [
        "## Question 1\n",
        "Write a Python program that  prompts the user to input the length and width of a rectangle, and then calculates and displays the area of the rectangle."
      ],
      "metadata": {
        "id": "nnwQOxZU_rLP"
      }
    },
    {
      "cell_type": "code",
      "execution_count": 19,
      "metadata": {
        "colab": {
          "base_uri": "https://localhost:8080/"
        },
        "id": "pnCEstXY_p9Y",
        "outputId": "64f09159-fb95-42dd-b592-cdda8117cf66"
      },
      "outputs": [
        {
          "output_type": "stream",
          "name": "stdout",
          "text": [
            "Enter the length of the Rectangle: 2\n",
            "Enter the Width of the Rectangle: 2\n",
            "The Area of the Rectangle is  4\n"
          ]
        }
      ],
      "source": [
        "# Taking the Users Input\n",
        "Rec_len = int(input(\"Enter the length of the Rectangle: \"))\n",
        "Rec_wid = int(input(\"Enter the Width of the Rectangle: \"))\n",
        "\n",
        "# Calculating the Area of the Rectangle ==> A = L * W\n",
        "Area_of_the_rec = Rec_len * Rec_wid\n",
        "\n",
        "# Displaying the Area of the Rectangle\n",
        "print(\"The Area of the Rectangle is \", Area_of_the_rec)"
      ]
    },
    {
      "cell_type": "markdown",
      "source": [
        "## Question 2\n",
        "Create a Python program that interactively takes two numerical inputs from the user and swaps their values without utilizing an extra variable."
      ],
      "metadata": {
        "id": "d9CxNpF9AhFJ"
      }
    },
    {
      "cell_type": "code",
      "source": [
        "# Taking Users Input\n",
        "num1 = int(input(\"Eenter your First Number: \"))\n",
        "num2 = int(input(\"Eenter your Second Number: \"))\n",
        "\n",
        "# Displaying the Results Before Swapping\n",
        "print(\"First Number: \", num1)\n",
        "print(\"Second Number: \", num2)\n",
        "\n",
        "# Swapping the Numbers without another Var\n",
        "num1, num2 = num2, num1\n",
        "\n",
        "print(\" \")\n",
        "\n",
        "# Displaying the Result after Swapping\n",
        "print(\"Fist Number: \", num1)\n",
        "print(\"Second Number: \", num2)"
      ],
      "metadata": {
        "colab": {
          "base_uri": "https://localhost:8080/"
        },
        "id": "NJknO70aAf9H",
        "outputId": "cc6ee6ee-cc52-46c2-c1d7-7f9b97187b10"
      },
      "execution_count": 20,
      "outputs": [
        {
          "output_type": "stream",
          "name": "stdout",
          "text": [
            "Eenter your First Number: 12\n",
            "Eenter your Second Number: 13\n",
            "First Number:  12\n",
            "Second Number:  13\n",
            " \n",
            "Fist Number:  13\n",
            "Second Number:  12\n"
          ]
        }
      ]
    },
    {
      "cell_type": "markdown",
      "source": [
        "## Question 3\n",
        "Write a Python script to determine and print the length of a user-input string."
      ],
      "metadata": {
        "id": "dLZnp2diChZH"
      }
    },
    {
      "cell_type": "code",
      "source": [
        "# Talking the Users Input\n",
        "user_Input = input(\"Enter any String to Determine its Length: \")\n",
        "\n",
        "# creating a variable to determine the Length of the input String\n",
        "str_len = len(user_Input)\n",
        "\n",
        "# Displaying the length of the Users Input\n",
        "print(\"The Length of your String is: \", str_len)"
      ],
      "metadata": {
        "colab": {
          "base_uri": "https://localhost:8080/"
        },
        "id": "-klvIOzFCg6o",
        "outputId": "3aeac8d6-d3c0-47bd-9d35-547879fa36c4"
      },
      "execution_count": 21,
      "outputs": [
        {
          "output_type": "stream",
          "name": "stdout",
          "text": [
            "Enter any String to Determine its Length: 1234\n",
            "The Length of your String is:  4\n"
          ]
        }
      ]
    },
    {
      "cell_type": "markdown",
      "source": [
        "## Question 4\n",
        "Construct a Python program that counts and displays the occurrences of each character in a given string.\n",
        "\n",
        "Sample String: 'openai.ai',\n",
        "\n",
        "Expected Result: {'a': 2, 'i': 2, '.': 1, 'o': 1, 'p': 1, 'e': 1, 'n': 1}"
      ],
      "metadata": {
        "id": "8iZ7Cf3KCkZZ"
      }
    },
    {
      "cell_type": "code",
      "source": [
        "# Importing the necessary package\n",
        "from collections import Counter\n",
        "\n",
        "# Makiing it Dynamic with users input\n",
        "sample_string = str(input('Enter a String: '))\n",
        "\n",
        "# Storing the Result in a variable\n",
        "Str_counter = Counter(sample_string)\n",
        "\n",
        "#Displaying the Result\n",
        "print(dict(Str_counter))"
      ],
      "metadata": {
        "colab": {
          "base_uri": "https://localhost:8080/"
        },
        "id": "TjgrYhvUE4Es",
        "outputId": "e738e9e1-c96d-45d7-8851-7820bdd87819"
      },
      "execution_count": 22,
      "outputs": [
        {
          "output_type": "stream",
          "name": "stdout",
          "text": [
            "Enter a String: HI \n",
            "{'H': 1, 'I': 1, ' ': 1}\n"
          ]
        }
      ]
    },
    {
      "cell_type": "markdown",
      "source": [
        "## Question 5\n",
        "Design a Python code to calculate the sum of all elements in a user-provided list."
      ],
      "metadata": {
        "id": "IT_nBRDEGnBt"
      }
    },
    {
      "cell_type": "code",
      "source": [
        "# Taking the Users Input as a string\n",
        "user_input_string = input('Enter numbers separated by spaces: ')\n",
        "\n",
        "# Split the string into a list of number strings\n",
        "num_strings = user_input_string.split()\n",
        "\n",
        "# Convert each number string to a float and put them in a list\n",
        "numbers = [float(num) for num in num_strings]\n",
        "\n",
        "# Calculate the sum of the numbers in the list\n",
        "total_sum = sum(numbers)\n",
        "\n",
        "# Display the result\n",
        "print(\"The sum of the numbers is:\", total_sum)"
      ],
      "metadata": {
        "colab": {
          "base_uri": "https://localhost:8080/"
        },
        "id": "fPw9ingRGndA",
        "outputId": "ca09ab93-db89-484a-edf7-9636ecf0c3b4"
      },
      "execution_count": 23,
      "outputs": [
        {
          "output_type": "stream",
          "name": "stdout",
          "text": [
            "Enter numbers separated by spaces: 1 2 3 4 \n",
            "The sum of the numbers is: 10.0\n"
          ]
        }
      ]
    },
    {
      "cell_type": "markdown",
      "source": [
        "## Question 6\n",
        "Write a Python program that modifies a given string by replacing all occurrences of its first character with '$', excluding the first character itself.\n",
        "\n",
        "\n",
        "Sample String : 'restart‘\n",
        "Expected Result : 'resta\\$t'"
      ],
      "metadata": {
        "id": "6e41L8G_JCGz"
      }
    },
    {
      "cell_type": "code",
      "source": [
        "# Taking User's Input\n",
        "\n",
        "sample_string = input(\"Enter a Word\")\n",
        "\n",
        "#Displaying Before Modification\n",
        "print(\"Word Before Modification: \", sample_string)\n",
        "\n",
        "\n",
        "print(\" \")\n",
        "# LowerCasing the Word Just to be safe\n",
        "sample_string = sample_string.lower()\n",
        "\n",
        "print('The Word is: ', sample_string)\n",
        "\n",
        "Modified_string = sample_string[0] + sample_string[1:].replace(sample_string[0], '$')\n",
        "\n",
        "# Displaying the Results After Modification\n",
        "print('Word After Modification: ', Modified_string)\n"
      ],
      "metadata": {
        "colab": {
          "base_uri": "https://localhost:8080/"
        },
        "id": "i4Qgvh3JZrHH",
        "outputId": "15269a96-e5e6-474a-ba72-e1a9bafd9721"
      },
      "execution_count": 24,
      "outputs": [
        {
          "output_type": "stream",
          "name": "stdout",
          "text": [
            "Enter a WordTomato\n",
            "Word Before Modification:  Tomato\n",
            " \n",
            "The Word is:  tomato\n",
            "Word After Modification:  toma$o\n"
          ]
        }
      ]
    },
    {
      "cell_type": "markdown",
      "source": [
        "## Question 7\n",
        "Write a Python program using a while loop to compute the factorial of a user-supplied number."
      ],
      "metadata": {
        "id": "2EBWvt7fbULo"
      }
    },
    {
      "cell_type": "code",
      "source": [
        "# Taking users Input\n",
        "\n",
        "fact_num = int(input(\"Enter any Integer Number: \"))\n",
        "\n",
        "# defining variables for the factorial Loop\n",
        "fact = 1\n",
        "i = 1\n",
        "\n",
        "# Creating a While Loop for the Factorial of a Number\n",
        "while i <= fact_num:\n",
        "  fact *= i\n",
        "  i += 1\n",
        "\n",
        "print(f'The factorial of', fact_num, 'is:', fact)"
      ],
      "metadata": {
        "colab": {
          "base_uri": "https://localhost:8080/"
        },
        "id": "ZbBXi-dENTYZ",
        "outputId": "01fd2cdb-e929-4e6b-88d3-7a374a7c47ce"
      },
      "execution_count": 25,
      "outputs": [
        {
          "output_type": "stream",
          "name": "stdout",
          "text": [
            "Enter any Integer Number: 5\n",
            "The factorial of 5 is: 120\n"
          ]
        }
      ]
    },
    {
      "cell_type": "markdown",
      "source": [
        "## Question 8\n",
        "Create a program that accepts a list of numbers as input and outputs a new list containing only the even numbers."
      ],
      "metadata": {
        "id": "t-oAG_hBUMfm"
      }
    },
    {
      "cell_type": "code",
      "source": [
        "# Taking the user Input\n",
        "num_list = input(\"Enter any List of Numbers that are Seperated by Commas: \")\n",
        "\n",
        "# Here, using the split() function to store the Values in the List and\n",
        "even_num = [int(n) for n in num_list.split(',') if int(n) % 2 == 0]\n",
        "\n",
        "# Displaying the Result\n",
        "print(\"Even numbers:\", even_num)"
      ],
      "metadata": {
        "colab": {
          "base_uri": "https://localhost:8080/"
        },
        "id": "MqVFHzXZUM36",
        "outputId": "d78969df-980c-4fff-8126-a9732ce7d684"
      },
      "execution_count": null,
      "outputs": [
        {
          "output_type": "stream",
          "name": "stdout",
          "text": [
            "Enter numbers separated by commas: 1, 2, 3, 4\n",
            "Even numbers: [2, 4]\n"
          ]
        }
      ]
    },
    {
      "cell_type": "markdown",
      "source": [
        "## Question 9\n",
        "Design a Python function to check if a number is prime."
      ],
      "metadata": {
        "id": "OpoydkEOUNeK"
      }
    },
    {
      "cell_type": "code",
      "source": [
        "# Taking the users Input\n",
        "\n",
        "num = int(input('Enter any Number: '))\n",
        "\n",
        "if num <= 1:\n",
        "  print(num, 'Is not a Prime Number')\n",
        "else:\n",
        "  prime = True\n",
        "  for i in range(2, num):\n",
        "    if num % 1 == 0:\n",
        "      prime = False\n",
        "      break\n",
        "  if prime:\n",
        "    print(num, 'Is a Prime Number!! ')\n",
        "  else:\n",
        "    print(num, 'Is not a Prime Number!! ')\n"
      ],
      "metadata": {
        "colab": {
          "base_uri": "https://localhost:8080/"
        },
        "id": "pxsw7_RHUN12",
        "outputId": "e913d606-e35a-4734-f39f-450f81d6d15b"
      },
      "execution_count": null,
      "outputs": [
        {
          "output_type": "stream",
          "name": "stdout",
          "text": [
            "Enter any Number: 2\n",
            "2 Is a Prime Number!! \n"
          ]
        }
      ]
    },
    {
      "cell_type": "markdown",
      "source": [
        "## Question 10\n",
        "Write a Python program to concatenate following dictionaries to create a new one.\n",
        "\n",
        "Sample Dictionary : dic1={1:10, 2:20}, dic2={3:30, 4:40}, dic3={5:50,6:60},\n",
        "\n",
        "Expected Result : {1: 10, 2: 20, 3: 30, 4: 40, 5: 50, 6: 60}"
      ],
      "metadata": {
        "id": "Cz8YafH0UOQU"
      }
    },
    {
      "cell_type": "code",
      "source": [
        "# Here is my Sample Dictionary\n",
        "dic1={1:5, 2:40}\n",
        "dic2={3:15, 4:80}\n",
        "dic3={5:25, 6:120}\n",
        "\n",
        "result = {}\n",
        "\n",
        "for concat_dic in (dic1, dic2, dic3):\n",
        "  result.update(concat_dic)\n",
        "\n",
        "print('Here is the Concatenation of all the Dictionaries: ', result)"
      ],
      "metadata": {
        "colab": {
          "base_uri": "https://localhost:8080/"
        },
        "id": "hm6u2QzbUOi5",
        "outputId": "8363d6c5-00b7-4747-e510-8719941429b1"
      },
      "execution_count": null,
      "outputs": [
        {
          "output_type": "stream",
          "name": "stdout",
          "text": [
            "Here is the Concatenation of all the Dictionaries:  {1: 5, 2: 40, 3: 15, 4: 80, 5: 25, 6: 120}\n"
          ]
        }
      ]
    },
    {
      "cell_type": "markdown",
      "source": [
        "## Question 11\n",
        "Design a Python function that takes a tuple of integers as input and returns the largest and smallest elements."
      ],
      "metadata": {
        "id": "NTD8NlKhUO0I"
      }
    },
    {
      "cell_type": "code",
      "source": [
        "# Here is my Sample Tuple of Integers\n",
        "myTuple = (10, 5, 20, 15, 30)\n",
        "\n",
        "def min_max_tuple(t):\n",
        "  return min(t), max(t)\n",
        "\n",
        "small_num, large_num = min_max_tuple(myTuple)\n",
        "\n",
        "print(small_num, 'Is the Smallest Number!!')\n",
        "print(large_num, 'Is the Largest Number!!')\n"
      ],
      "metadata": {
        "colab": {
          "base_uri": "https://localhost:8080/"
        },
        "id": "V2VlZDKBUPGH",
        "outputId": "43e14487-967c-4dfd-fb79-a819daeb9030"
      },
      "execution_count": null,
      "outputs": [
        {
          "output_type": "stream",
          "name": "stdout",
          "text": [
            "5 Is the Smallest Number!!\n",
            "30 Is the Largest Number!!\n"
          ]
        }
      ]
    },
    {
      "cell_type": "markdown",
      "source": [
        "## Question 12\n",
        "Write a Python program that counts the frequency of each character in a given string and stores it in a dictionary.\n"
      ],
      "metadata": {
        "id": "rDanJ_p0UPUE"
      }
    },
    {
      "cell_type": "code",
      "source": [
        "from abc import update_abstractmethods\n",
        "# Taking User Input\n",
        "\n",
        "user_input = input('Enter a String of Characters: ')\n",
        "\n",
        "# Creating a Fuction that counts the Freq of a Character\n",
        "def char_count_freq(string):\n",
        "  char_freq = {}\n",
        "\n",
        "  for char in string:\n",
        "    if char in char_freq:\n",
        "      char_freq[char] += 1\n",
        "    else:\n",
        "      char_freq[char] = 1\n",
        "\n",
        "  return char_freq\n",
        "\n",
        "word_freq_dict = char_count_freq(user_input)\n",
        "\n",
        "# Displaying the Dictionary of the Wrord Frequency\n",
        "\n",
        "print(\"Character Frequency:\")\n",
        "for char, freq in word_freq_dict.items():\n",
        "  print(f\"{char} : {freq}\")"
      ],
      "metadata": {
        "id": "zYusbxp4UPkj",
        "colab": {
          "base_uri": "https://localhost:8080/"
        },
        "outputId": "c829ad69-48ed-4830-a9d4-b8ae9aeb132b"
      },
      "execution_count": null,
      "outputs": [
        {
          "output_type": "stream",
          "name": "stdout",
          "text": [
            "Enter a String of Characters: Hello my name is Asutosh\n",
            "Character Frequency:\n",
            "H : 1\n",
            "e : 2\n",
            "l : 2\n",
            "o : 2\n",
            "  : 4\n",
            "m : 2\n",
            "y : 1\n",
            "n : 1\n",
            "a : 1\n",
            "i : 1\n",
            "s : 3\n",
            "A : 1\n",
            "u : 1\n",
            "t : 1\n",
            "h : 1\n"
          ]
        }
      ]
    },
    {
      "cell_type": "markdown",
      "source": [
        "## Question 13\n",
        "Implement a Python script to identify duplicate elements in a provided array of integers. Return -1 if there are no duplicates."
      ],
      "metadata": {
        "id": "dvukM1i3UPy4"
      }
    },
    {
      "cell_type": "code",
      "source": [
        "# Taking users Input\n",
        "arr = list(map(int, input('Enter Array of Numbers: ').split()))\n",
        "\n",
        "\n",
        "# Defining a Function to find the duplicate Numbers\n",
        "def duplicate(arr):\n",
        "  duplicates = [x for x in set(arr) if arr.count(x) > 1]\n",
        "  return duplicate if duplicates else -1\n",
        "\n",
        "# Storing the Results\n",
        "result = duplicate(arr)\n",
        "\n",
        "if result != -1:\n",
        "  print('Duplicates Found!! ')\n",
        "else:\n",
        "  print('No Duplicates Found!! ')\n",
        "\n",
        "\n"
      ],
      "metadata": {
        "id": "czjiMSM4UQm6",
        "colab": {
          "base_uri": "https://localhost:8080/"
        },
        "outputId": "b0105544-2dab-474d-f1f6-15c3767efacb"
      },
      "execution_count": null,
      "outputs": [
        {
          "output_type": "stream",
          "name": "stdout",
          "text": [
            "Enter Array of Numbers: 1 2 3 4 \n",
            "No Duplicates Found!! \n"
          ]
        }
      ]
    },
    {
      "cell_type": "markdown",
      "source": [
        "## Question 14\n",
        "Write a Python script to find the common elements between two lists."
      ],
      "metadata": {
        "id": "cAyYykQYUSrd"
      }
    },
    {
      "cell_type": "code",
      "source": [
        "myList1 = [1, 2, 3, 4, 5]\n",
        "myList2 = [1, 4, 3, 8, 10]\n",
        "\n",
        "def common_elements(myList1, myList2):\n",
        "  return list(set(myList1) & set(myList2))\n",
        "commonElements = common_elements(myList1, myList2)\n",
        "\n",
        "if commonElements:\n",
        "  print('Common Elements Found!!', commonElements)\n",
        "else:\n",
        "  print('No Common Elements Found!!')\n"
      ],
      "metadata": {
        "id": "4OMmZDwiUS84",
        "colab": {
          "base_uri": "https://localhost:8080/"
        },
        "outputId": "5dd8f46f-c56c-4296-b943-6ce578699838"
      },
      "execution_count": null,
      "outputs": [
        {
          "output_type": "stream",
          "name": "stdout",
          "text": [
            "Common Elements Found!! [1, 3, 4]\n"
          ]
        }
      ]
    },
    {
      "cell_type": "markdown",
      "source": [
        "## Question 15\n",
        "Write a Python program to randomly divide the students in this class into maximum of eight groups for term projects, each group should have at least 4 students but no more than 6 students (including 6).\n",
        "\n",
        "Here is the students list:\n",
        "\n",
        "student_list_spring_2024=[rb0846,\n",
        "ac1964,\n",
        "hc0612,\n",
        "md0912,\n",
        "ad1198,\n",
        "md0894,\n",
        "md0825,\n",
        "vg0598,\n",
        "vg0433,\n",
        "mh1068,\n",
        "yj0173,\n",
        "pk0553,\n",
        "tk0411,\n",
        "srk0204,\n",
        "sk2922,\n",
        "sk2936,\n",
        "mk1302,\n",
        "mk1317,\n",
        "tk0412,\n",
        "vk0656,\n",
        "sm2985,\n",
        "mm2372,\n",
        "un0045,\n",
        "an0892,\n",
        "sn0913,\n",
        "gp0252,\n",
        "ap1484,\n",
        "mr1765,\n",
        "sr1385,\n",
        "sr1335,\n",
        "hs0665,\n",
        "ms2060,\n",
        "gt0217,\n",
        "nt0385,\n",
        "tv0186,\n",
        "sv1394,\n",
        "sv1752,\n",
        "sv1555,\n",
        "sy0594\n",
        "]\n",
        "\n"
      ],
      "metadata": {
        "id": "D4AU0EiXUTXw"
      }
    },
    {
      "cell_type": "code",
      "source": [
        "import random\n",
        "\n",
        "students = [\n",
        "    \"rb0846\", \"ac1964\", \"hc0612\", \"md0912\", \"ad1198\", \"md0894\", \"md0825\", \"vg0598\",\n",
        "    \"vg0433\", \"mh1068\", \"yj0173\", \"pk0553\", \"tk0411\", \"srk0204\", \"sk2922\", \"sk2936\",\n",
        "    \"mk1302\", \"mk1317\", \"tk0412\", \"vk0656\", \"sm2985\", \"mm2372\", \"un0045\", \"an0892\",\n",
        "    \"sn0913\", \"gp0252\", \"ap1484\", \"mr1765\", \"sr1385\", \"sr1335\", \"hs0665\", \"ms2060\",\n",
        "    \"gt0217\", \"nt0385\", \"tv0186\", \"sv1394\", \"sv1752\", \"sv1555\", \"sy0594\"\n",
        "]\n",
        "\n",
        "random.shuffle(students)\n",
        "\n",
        "groups = []\n",
        "group_size = 4\n",
        "\n",
        "# Grouping the students using While Loops\n",
        "while students:\n",
        "    group = students[:group_size]\n",
        "    groups.append(group)\n",
        "    students = students[group_size:]\n",
        "    group_size = random.randint(6, 6)\n",
        "\n",
        "for i, group in enumerate(groups, start=1):\n",
        "    print(f\"Group {i}: {', '.join(group)}\")"
      ],
      "metadata": {
        "id": "zKxmx4HJUTuw",
        "colab": {
          "base_uri": "https://localhost:8080/"
        },
        "outputId": "4b06e5ba-438b-4016-8239-700c3a25bde8"
      },
      "execution_count": null,
      "outputs": [
        {
          "output_type": "stream",
          "name": "stdout",
          "text": [
            "Group 1: sy0594, mk1302, yj0173, sn0913\n",
            "Group 2: mk1317, srk0204, sv1752, md0894, ad1198, an0892\n",
            "Group 3: hs0665, vk0656, sr1335, sm2985, sk2922, ac1964\n",
            "Group 4: vg0433, un0045, gp0252, hc0612, ms2060, pk0553\n",
            "Group 5: sv1394, nt0385, md0912, ap1484, mm2372, sv1555\n",
            "Group 6: tk0412, sr1385, sk2936, tv0186, md0825, vg0598\n",
            "Group 7: mh1068, gt0217, rb0846, mr1765, tk0411\n"
          ]
        }
      ]
    },
    {
      "cell_type": "markdown",
      "source": [
        "## Question 16\n",
        "Create a program that takes a positive integer 'n' as input and prints the count of even numbers from 1 to 'n'. Optimize the loop using the continue statement.\n"
      ],
      "metadata": {
        "id": "VaOL2vmmUULg"
      }
    },
    {
      "cell_type": "code",
      "source": [
        "num = int(input('Enter a Number: '))\n",
        "\n",
        "count = 0\n",
        "\n",
        "for i in range(1, num + 1):\n",
        "  if i % 2 != 0:\n",
        "    continue\n",
        "  count += 1\n",
        "\n",
        "print(f'Even Numbers From 1 to {num} are: ', count)"
      ],
      "metadata": {
        "id": "giJE5NXoUUc9",
        "colab": {
          "base_uri": "https://localhost:8080/"
        },
        "outputId": "c8c677ab-115c-4087-c14d-a24901380d88"
      },
      "execution_count": null,
      "outputs": [
        {
          "output_type": "stream",
          "name": "stdout",
          "text": [
            "Enter a Number: 5\n",
            "Even Numbers From 1 to 5 are:  2\n"
          ]
        }
      ]
    },
    {
      "cell_type": "markdown",
      "source": [
        "## Question 17\n",
        "Develop a Python function called 'count_vowels' that takes a string as input and returns the count of vowels (both lowercase and uppercase) present in the string, ignoring spaces and non-alphabetic characters."
      ],
      "metadata": {
        "id": "yTHVOD3TUU41"
      }
    },
    {
      "cell_type": "code",
      "source": [
        "input_string = input('Enter a String of Characters:')\n",
        "\n",
        "def count_vowels(string):\n",
        "  vowels = 'aeiouAEIOU'\n",
        "  vowel_count = 0\n",
        "\n",
        "  for char in string:\n",
        "    if not char.isalpha():\n",
        "      continue\n",
        "    if char in vowels:\n",
        "      vowel_count += 1\n",
        "\n",
        "  return vowel_count\n",
        "\n",
        "print('The Number of Vowels in a Given String is: ', count_vowels(input_string))\n"
      ],
      "metadata": {
        "id": "MvIjtYVnUVIe",
        "colab": {
          "base_uri": "https://localhost:8080/"
        },
        "outputId": "4d9571cf-b390-4b77-84a7-a034b9e0649d"
      },
      "execution_count": null,
      "outputs": [
        {
          "output_type": "stream",
          "name": "stdout",
          "text": [
            "Enter a String of Characters:Hello \n",
            "The Number of Vowels in a Given String is:  2\n"
          ]
        }
      ]
    },
    {
      "cell_type": "markdown",
      "source": [
        "## Question 18\n",
        "Create a custom exception named ValueTooSmallError in Python. Write a program that takes user input for an age, and if the entered age is less than 18, raise the ValueTooSmallError with an appropriate error message."
      ],
      "metadata": {
        "id": "9ScZNpCrUVcT"
      }
    },
    {
      "cell_type": "code",
      "source": [
        "Users_age = int(input('Enter your Age: '))\n",
        "\n",
        "class ValueTooSmallError(Exception):\n",
        "  pass\n",
        "\n",
        "try:\n",
        "  if Users_age < 18:\n",
        "    raise ValueTooSmallError(\"Your Age Must be Either 18 or Greater!\")\n",
        "  print(\"Allowed!!\")\n",
        "\n",
        "except ValueTooSmallError as e:\n",
        "  print('Error',e)\n",
        "except ValueError:\n",
        "  print('Invalid Input!!')\n"
      ],
      "metadata": {
        "id": "qebHkXk_UVxh",
        "colab": {
          "base_uri": "https://localhost:8080/"
        },
        "outputId": "335c1752-cd84-4e11-bf00-3889ff9eaab3"
      },
      "execution_count": null,
      "outputs": [
        {
          "output_type": "stream",
          "name": "stdout",
          "text": [
            "Enter your Age: 18\n",
            "Allowed!!\n"
          ]
        }
      ]
    },
    {
      "cell_type": "markdown",
      "source": [
        "## Question 19\n",
        "Develop a script that reverses a given string without using built-in reverse functions.\n"
      ],
      "metadata": {
        "id": "UvPYwL5IUWHQ"
      }
    },
    {
      "cell_type": "code",
      "source": [
        "input_string = input('Enter a String: ')\n",
        "\n",
        "reverse_string = \"\"\n",
        "\n",
        "for char in input_string:\n",
        "  reverse_string = char + reverse_string\n",
        "\n",
        "print('The Reverse of the Given String is: ', reverse_string)"
      ],
      "metadata": {
        "id": "4u8Qjw7pUWcT",
        "colab": {
          "base_uri": "https://localhost:8080/"
        },
        "outputId": "daefc0d2-335b-4cec-8ab8-7e1e98b8c866"
      },
      "execution_count": null,
      "outputs": [
        {
          "output_type": "stream",
          "name": "stdout",
          "text": [
            "Enter a String: Asutosh\n",
            "The Reverse of the Given String is:  hsotusA\n"
          ]
        }
      ]
    },
    {
      "cell_type": "markdown",
      "source": [
        "## Question 20\n",
        "Implement a Python script to generate a random password of a specified length."
      ],
      "metadata": {
        "id": "khnZbDmSUWzY"
      }
    },
    {
      "cell_type": "code",
      "source": [
        "#importing necesary Packages\n",
        "import random\n",
        "import string\n",
        "\n",
        "password_length = int(input(\"Enter password length: \"))\n",
        "\n",
        "# created a function that generates a ramdom password based on the users length\n",
        "def generate_password(password_length):\n",
        "    characters = string.ascii_letters + string.digits + string.punctuation\n",
        "    password = \"\"\n",
        "\n",
        "    for _ in range(password_length):\n",
        "        password += random.choice(characters)\n",
        "\n",
        "    return password\n",
        "\n",
        "# Displaying the Result of the Random Password that is generated\n",
        "print(\"Your Password is:\", generate_password(password_length))"
      ],
      "metadata": {
        "id": "r2slskJ-UXNi",
        "colab": {
          "base_uri": "https://localhost:8080/"
        },
        "outputId": "ea054353-3baa-44e4-cf6a-305d14c4abd3"
      },
      "execution_count": null,
      "outputs": [
        {
          "output_type": "stream",
          "name": "stdout",
          "text": [
            "Enter password length: 5\n",
            "Your Password is: R29y)\n"
          ]
        }
      ]
    },
    {
      "cell_type": "markdown",
      "source": [
        "(21) Define a base class called 'Vehicle' with attributes make and model. Create a derived class Car that inherits from Vehicle and has an additional attribute 'num_doors'. Demonstrate an example of creating an instance of the 'Car' class and accessing its attributes."
      ],
      "metadata": {
        "id": "fmVfS6Q3UXeD"
      }
    },
    {
      "cell_type": "code",
      "source": [
        "class Vehicle:\n",
        "  def __init__(self, make, model):\n",
        "    self.make = make\n",
        "    self.model = model\n",
        "\n",
        "class car(Vehicle):\n",
        "  def __init__(self, make, model, num_doors):\n",
        "    super().__init__(make, model)\n",
        "    self.num_doors = num_doors\n",
        "\n",
        "myCar = car('Audi', 'A8', 4)\n",
        "\n",
        "print(\"Make:\", myCar.make)\n",
        "print(\"Model:\", myCar.model)\n",
        "print(\"Number of doors:\", myCar.num_doors)"
      ],
      "metadata": {
        "id": "OgshZEbCUXxb",
        "colab": {
          "base_uri": "https://localhost:8080/"
        },
        "outputId": "b731ccf4-1134-45db-8ce9-4c48e1a0fff5"
      },
      "execution_count": 2,
      "outputs": [
        {
          "output_type": "stream",
          "name": "stdout",
          "text": [
            "Make: Audi\n",
            "Model: A8\n",
            "Number of doors: 4\n"
          ]
        }
      ]
    },
    {
      "cell_type": "markdown",
      "source": [
        "(22) Create a class called 'Shape' with a method calculate_area(). Implement two derived classes 'Circle' and 'Rectangle' that inherit from Shape and override the calculate_area() method. Demonstrate polymorphism by creating instances of both derived classes and calling the calculate_area() method."
      ],
      "metadata": {
        "id": "VE-Wvy8GUYT1"
      }
    },
    {
      "cell_type": "code",
      "source": [
        "import math\n",
        "\n",
        "class Shape:\n",
        "    def calculate_area(self):\n",
        "        raise NotImplementedError(\"Subclasses must override this method\")\n",
        "\n",
        "# Derived class: Circle\n",
        "class Circle(Shape):\n",
        "    def __init__(self, radius):\n",
        "        self.radius = radius\n",
        "\n",
        "    def calculate_area(self):\n",
        "        return math.pi * self.radius ** 2\n",
        "\n",
        "# Derived class: Rectangle\n",
        "class Rectangle(Shape):\n",
        "    def __init__(self, width, length):\n",
        "        self.width = width\n",
        "        self.length = length\n",
        "\n",
        "    def calculate_area(self):\n",
        "        return self.width * self.length\n",
        "\n",
        "# Demonstrate polymorphism\n",
        "shapes = [\n",
        "    Circle(radius=5),\n",
        "    Rectangle(width=4, length=6)\n",
        "]\n",
        "\n",
        "for shape in shapes:\n",
        "    print(f\"The area is: {shape.calculate_area():.2f}\")"
      ],
      "metadata": {
        "id": "hx45Qb8jUYsL",
        "colab": {
          "base_uri": "https://localhost:8080/"
        },
        "outputId": "078ec965-3ee0-494c-fa10-e9b926f829d9"
      },
      "execution_count": 11,
      "outputs": [
        {
          "output_type": "stream",
          "name": "stdout",
          "text": [
            "The area is: 78.54\n",
            "The area is: 24.00\n"
          ]
        }
      ]
    },
    {
      "cell_type": "markdown",
      "source": [
        "(23) Write a Python program that prompts the user to enter two numbers and perform a division operation. Handle exceptions for both zero division and invalid input (non-numeric input). Display appropriate error messages for each type of exception and ensure the program does not crash due to these errors."
      ],
      "metadata": {
        "id": "o7VabwG7UZLq"
      }
    },
    {
      "cell_type": "code",
      "source": [
        "num1 = float(input('Enter a Number: '))\n",
        "num2 = float(input('Enter Another Number: '))\n",
        "\n",
        "try:\n",
        "  print(f'The Divison of {num1}/ {num2} is:  ', num1/num2)\n",
        "except ZeroDivisionError:\n",
        "  print('Cannot Divide by Zero!!')\n",
        "except ValueError:\n",
        "  print('Invalid Input!!')\n",
        "\n",
        "\n"
      ],
      "metadata": {
        "id": "xEt3IVGzUZdK",
        "colab": {
          "base_uri": "https://localhost:8080/"
        },
        "outputId": "0551482d-f5e9-4df7-f596-c174d1d262fc"
      },
      "execution_count": 18,
      "outputs": [
        {
          "output_type": "stream",
          "name": "stdout",
          "text": [
            "Enter a Number: 2\n",
            "Enter Another Number: 56\n",
            "The Divison of 2.0/ 56.0 is:   0.03571428571428571\n"
          ]
        }
      ]
    },
    {
      "cell_type": "markdown",
      "source": [
        "**Important:**\n",
        "Reflecting on the first three lectures and the exercises you've completed, please provide feedback on your learning experience. Share your thoughts on whether the material covered was clear, the exercises were helpful, and if you feel more confident in applying Python programming concepts. Additionally, mention any specific areas where you would like more clarification or topics you would like to explore further in future lectures. Your feedback is valuable in shaping the course for an effective learning journey."
      ],
      "metadata": {
        "id": "SlaFK5Ootjvx"
      }
    },
    {
      "cell_type": "code",
      "source": [
        "'''\n",
        "I think the material was very clear, firstly starting with simple examples and then delving into more complex examples. By doing\n",
        "these exercises I feel more confident in my skills of Python Programming and can apply these concepts. other than that i feel like of we do\n",
        "live python programming in class as we conver topic and applying these live would help student get the concepts more easily.\n",
        "'''"
      ],
      "metadata": {
        "id": "AX5_0SCJdgY3"
      },
      "execution_count": null,
      "outputs": []
    }
  ]
}